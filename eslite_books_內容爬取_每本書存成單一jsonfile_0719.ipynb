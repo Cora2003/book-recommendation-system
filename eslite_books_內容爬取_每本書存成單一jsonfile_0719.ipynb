{
 "cells": [
  {
   "cell_type": "code",
   "execution_count": 3,
   "id": "fb8ab54e",
   "metadata": {},
   "outputs": [
    {
     "name": "stdout",
     "output_type": "stream",
     "text": [
      "完成\n"
     ]
    }
   ],
   "source": [
    "import requests\n",
    "import os\n",
    "import time\n",
    "import bs4\n",
    "import pandas as pd\n",
    "from bs4 import BeautifulSoup\n",
    "from selenium import webdriver\n",
    "from selenium.webdriver.common.by import By\n",
    "from selenium.webdriver.support.ui import WebDriverWait\n",
    "from selenium.webdriver.support import expected_conditions as EC\n",
    "from selenium.webdriver.chrome.service import Service\n",
    "import json\n",
    "\n",
    "service = Service()\n",
    "driver = webdriver.Chrome(service=service)\n",
    "# 讀取txt文件中的URL\n",
    "with open('心理測驗.txt', 'r', encoding='utf-8') as file:\n",
    "#with open('心理學概論.txt', 'r', encoding='utf-8') as file:\n",
    "#with open('心理學理論.txt', 'r', encoding='utf-8') as file:\n",
    "#with open('大眾心理學.txt', 'r', encoding='utf-8') as file:\n",
    "#with open('個案分析與諮商輔導.txt', 'r', encoding='utf-8') as file:\n",
    "#with open('心理學工具書.txt', 'r', encoding='utf-8') as file:\n",
    "    lines = file.readlines()\n",
    "\n",
    "# 初始化一個空字典來儲存書名和URL\n",
    "urls = {}\n",
    "current_title = ''\n",
    "\n",
    "for line in lines:\n",
    "    line = line.strip()\n",
    "    if line.startswith('http'):\n",
    "        urls[current_title] = line\n",
    "    else:\n",
    "        current_title = line\n",
    "        \n",
    "all_books_data=pd.DataFrame()\n",
    "# 遍歷每個URL，爬取內容並寫入單獨的文件\n",
    "for title, url in urls.items():\n",
    "    res = requests.get(url)\n",
    "    driver.get(url) \n",
    "    WebDriverWait(driver, 20).until(EC.presence_of_all_elements_located((By.CSS_SELECTOR, \"div.publicDate.d-flex.mb-1\")))\n",
    "    product_items = driver.find_elements(By.CSS_SELECTOR, \"div.group\")\n",
    "    \n",
    "    info = {}\n",
    "    current_key = None\n",
    "\n",
    "    for item in product_items:\n",
    "        spans = item.find_elements(By.TAG_NAME, \"span\")\n",
    "        text = ''.join([span.text for span in spans]).strip()\n",
    "\n",
    "        if text.endswith('：'):\n",
    "            current_key = text[:-1]  # 移除結尾的冒號\n",
    "        elif current_key:\n",
    "            info[current_key] = text\n",
    "            current_key = None\n",
    "    #info{作者,譯者,出版社,出版日期}\n",
    "       \n",
    "    book_data = {\n",
    "        '書名':title,\n",
    "        'URL': url,\n",
    "        '作者介紹': '',\n",
    "        '各界推薦': '',\n",
    "        '推薦序': '',\n",
    "        # 根據需要添加更多的欄位\n",
    "    }   \n",
    "    \n",
    "    soup = BeautifulSoup(res.text, 'html.parser')\n",
    "    content = soup.find_all(\"p\")\n",
    "    for p in content:\n",
    "        text = p.get_text()\n",
    "        #print(p.get_text() + '\\n' + '\\n')\n",
    "        if '作者介紹' in text:\n",
    "            book_data['作者介紹'] = text.replace('作者介紹', '').strip()\n",
    "        elif '產品目錄' in text:\n",
    "            book_data['產品目錄'] = text.replace('產品目錄', '').strip()\n",
    "        elif '內容簡介' in text:\n",
    "            book_data['內容簡介'] = text.replace('內容簡介', '').strip()\n",
    "        elif '各界推薦' in text:\n",
    "            book_data['各界推薦'] = text.replace('各界推薦', '').strip()\n",
    "        elif '自序' in text:\n",
    "            book_data['自序'] = text.replace('自序 :', '').strip()\n",
    "        elif '內文' in text:\n",
    "            book_data['內文'] = text.replace('內文 :', '').strip()\n",
    "        elif '推薦序' in text:\n",
    "            book_data['推薦序'] = text.replace('推薦序', '').strip()\n",
    "        elif '最佳賣點' in text:\n",
    "            book_data['最佳賣點'] = text.replace('最佳賣點 :', '').strip()\n",
    "    \n",
    "    #合併info和book_data兩個dictionary\n",
    "    book_data.update(info)\n",
    "    filename = f\"{title.replace('?', '').replace('*', '').replace(':', '').replace(' ', '').replace('/', '-')}.json\"\n",
    "    with open(filename, 'w', encoding='utf-8') as file:\n",
    "        json.dump(book_data, file, ensure_ascii=False, indent=4)\n",
    "print(\"完成\")"
   ]
  },
  {
   "cell_type": "code",
   "execution_count": 5,
   "id": "a706926a",
   "metadata": {},
   "outputs": [],
   "source": [
    "df1 = pd.read_excel('book_data_心理測驗.xlsx')\n",
    "df2 = pd.read_excel('book_data_心理學工具書.xlsx')"
   ]
  },
  {
   "cell_type": "code",
   "execution_count": 6,
   "id": "d7b2d6eb",
   "metadata": {},
   "outputs": [],
   "source": [
    "df3 = pd.concat([df1,df2], ignore_index=True)"
   ]
  },
  {
   "cell_type": "code",
   "execution_count": 7,
   "id": "baca0853",
   "metadata": {},
   "outputs": [],
   "source": [
    "df3.to_excel('測驗+工具書.xlsx',index=True)"
   ]
  },
  {
   "cell_type": "code",
   "execution_count": null,
   "id": "5cf2e181",
   "metadata": {},
   "outputs": [],
   "source": []
  }
 ],
 "metadata": {
  "kernelspec": {
   "display_name": "Python 3 (ipykernel)",
   "language": "python",
   "name": "python3"
  },
  "language_info": {
   "codemirror_mode": {
    "name": "ipython",
    "version": 3
   },
   "file_extension": ".py",
   "mimetype": "text/x-python",
   "name": "python",
   "nbconvert_exporter": "python",
   "pygments_lexer": "ipython3",
   "version": "3.10.9"
  }
 },
 "nbformat": 4,
 "nbformat_minor": 5
}
