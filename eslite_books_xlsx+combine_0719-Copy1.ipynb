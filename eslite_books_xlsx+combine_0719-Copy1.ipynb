{
 "cells": [
  {
   "cell_type": "code",
   "execution_count": null,
   "id": "d68cbbb9",
   "metadata": {},
   "outputs": [],
   "source": [
    "#含書名\tURL\t作者介紹\t各界推薦\t推薦序\t內容簡介\t產品目錄\t自序\t內文\t最佳賣點\t作者\t出版社\t出版日期\t譯者\t繪者"
   ]
  },
  {
   "cell_type": "code",
   "execution_count": 10,
   "id": "fb8ab54e",
   "metadata": {
    "scrolled": true
   },
   "outputs": [
    {
     "ename": "KeyboardInterrupt",
     "evalue": "",
     "output_type": "error",
     "traceback": [
      "\u001b[1;31m---------------------------------------------------------------------------\u001b[0m",
      "\u001b[1;31mKeyboardInterrupt\u001b[0m                         Traceback (most recent call last)",
      "Cell \u001b[1;32mIn[10], line 62\u001b[0m\n\u001b[0;32m     60\u001b[0m res \u001b[38;5;241m=\u001b[39m requests\u001b[38;5;241m.\u001b[39mget(url)\n\u001b[0;32m     61\u001b[0m driver\u001b[38;5;241m.\u001b[39mget(url) \n\u001b[1;32m---> 62\u001b[0m \u001b[43mWebDriverWait\u001b[49m\u001b[43m(\u001b[49m\u001b[43mdriver\u001b[49m\u001b[43m,\u001b[49m\u001b[43m \u001b[49m\u001b[38;5;241;43m20\u001b[39;49m\u001b[43m)\u001b[49m\u001b[38;5;241;43m.\u001b[39;49m\u001b[43muntil\u001b[49m\u001b[43m(\u001b[49m\u001b[43mEC\u001b[49m\u001b[38;5;241;43m.\u001b[39;49m\u001b[43mpresence_of_all_elements_located\u001b[49m\u001b[43m(\u001b[49m\u001b[43m(\u001b[49m\u001b[43mBy\u001b[49m\u001b[38;5;241;43m.\u001b[39;49m\u001b[43mCSS_SELECTOR\u001b[49m\u001b[43m,\u001b[49m\u001b[43m \u001b[49m\u001b[38;5;124;43m\"\u001b[39;49m\u001b[38;5;124;43mdiv.publicDate.d-flex.mb-1\u001b[39;49m\u001b[38;5;124;43m\"\u001b[39;49m\u001b[43m)\u001b[49m\u001b[43m)\u001b[49m\u001b[43m)\u001b[49m\n\u001b[0;32m     63\u001b[0m product_items \u001b[38;5;241m=\u001b[39m driver\u001b[38;5;241m.\u001b[39mfind_elements(By\u001b[38;5;241m.\u001b[39mCSS_SELECTOR, \u001b[38;5;124m\"\u001b[39m\u001b[38;5;124mdiv.group\u001b[39m\u001b[38;5;124m\"\u001b[39m)\n\u001b[0;32m     65\u001b[0m info \u001b[38;5;241m=\u001b[39m {}\n",
      "File \u001b[1;32m~\\Downloads\\anaconda\\lib\\site-packages\\selenium\\webdriver\\support\\wait.py:102\u001b[0m, in \u001b[0;36mWebDriverWait.until\u001b[1;34m(self, method, message)\u001b[0m\n\u001b[0;32m    100\u001b[0m     screen \u001b[38;5;241m=\u001b[39m \u001b[38;5;28mgetattr\u001b[39m(exc, \u001b[38;5;124m\"\u001b[39m\u001b[38;5;124mscreen\u001b[39m\u001b[38;5;124m\"\u001b[39m, \u001b[38;5;28;01mNone\u001b[39;00m)\n\u001b[0;32m    101\u001b[0m     stacktrace \u001b[38;5;241m=\u001b[39m \u001b[38;5;28mgetattr\u001b[39m(exc, \u001b[38;5;124m\"\u001b[39m\u001b[38;5;124mstacktrace\u001b[39m\u001b[38;5;124m\"\u001b[39m, \u001b[38;5;28;01mNone\u001b[39;00m)\n\u001b[1;32m--> 102\u001b[0m \u001b[43mtime\u001b[49m\u001b[38;5;241;43m.\u001b[39;49m\u001b[43msleep\u001b[49m\u001b[43m(\u001b[49m\u001b[38;5;28;43mself\u001b[39;49m\u001b[38;5;241;43m.\u001b[39;49m\u001b[43m_poll\u001b[49m\u001b[43m)\u001b[49m\n\u001b[0;32m    103\u001b[0m \u001b[38;5;28;01mif\u001b[39;00m time\u001b[38;5;241m.\u001b[39mmonotonic() \u001b[38;5;241m>\u001b[39m end_time:\n\u001b[0;32m    104\u001b[0m     \u001b[38;5;28;01mbreak\u001b[39;00m\n",
      "\u001b[1;31mKeyboardInterrupt\u001b[0m: "
     ]
    }
   ],
   "source": [
    "import requests\n",
    "import os\n",
    "import time\n",
    "import bs4\n",
    "import pandas as pd\n",
    "from bs4 import BeautifulSoup\n",
    "from selenium import webdriver\n",
    "from selenium.webdriver.common.by import By\n",
    "from selenium.webdriver.support.ui import WebDriverWait\n",
    "from selenium.webdriver.support import expected_conditions as EC\n",
    "from selenium.webdriver.chrome.service import Service\n",
    "from selenium.webdriver.common.keys import Keys\n",
    "\n",
    "service = Service()\n",
    "driver = webdriver.Chrome(service=service)\n",
    "# 讀取txt文件中的URL\n",
    "#with open('心理測驗.txt', 'r', encoding='utf-8') as file:\n",
    "#with open('心理學概論.txt', 'r', encoding='utf-8') as file:\n",
    "#with open('心理學理論.txt', 'r', encoding='utf-8') as file:\n",
    "with open('大眾心理學3.txt', 'r', encoding='utf-8') as file:\n",
    "#with open('個案分析與諮商輔導.txt', 'r', encoding='utf-8') as file:\n",
    "#with open('心理學工具書.txt', 'r', encoding='utf-8') as file:\n",
    "    lines = file.readlines()\n",
    "\n",
    "# 初始化一個空字典來儲存書名和URL\n",
    "urls = {}\n",
    "current_title = ''\n",
    "\n",
    "for line in lines:\n",
    "    line = line.strip()\n",
    "    if line.startswith('http'):\n",
    "        urls[current_title] = line\n",
    "    else:\n",
    "        current_title = line\n",
    "        \n",
    "all_books_data=pd.DataFrame()\n",
    "\n",
    "driver.get(\"https://www.eslite.com/login\")\n",
    "\n",
    "# 等待頁面載入\n",
    "time.sleep(2)\n",
    "\n",
    "# 輸入會員帳號\n",
    "username = driver.find_element(By.ID, 'account')  # 請檢查正確的元素 ID 或 Name\n",
    "username.send_keys('0966530525')  # 替換為你的帳號\n",
    "\n",
    "# 輸入會員密碼\n",
    "password = driver.find_element(By.ID, 'password')  # 請檢查正確的元素 ID 或 Name\n",
    "password.send_keys('2003cora0525')  # 替換為你的密碼\n",
    "\n",
    "# 按下登入按鈕\n",
    "login_button = driver.find_element(By.TAG_NAME,'button')  # 請檢查正確的元素 ID\n",
    "login_button.send_keys(Keys.ENTER)\n",
    "\n",
    "# 等待頁面跳轉\n",
    "time.sleep(3)\n",
    "\n",
    "# 遍歷每個URL，爬取內容並寫入單獨的文件\n",
    "for title, url in urls.items():\n",
    "    res = requests.get(url)\n",
    "    driver.get(url) \n",
    "    WebDriverWait(driver, 20).until(EC.presence_of_all_elements_located((By.CSS_SELECTOR, \"div.publicDate.d-flex.mb-1\")))\n",
    "    product_items = driver.find_elements(By.CSS_SELECTOR, \"div.group\")\n",
    "    \n",
    "    info = {}\n",
    "    current_key = None\n",
    "\n",
    "    for item in product_items:\n",
    "        spans = item.find_elements(By.TAG_NAME, \"span\")\n",
    "        text = ''.join([span.text for span in spans]).strip()\n",
    "\n",
    "        if text.endswith('：'):\n",
    "            current_key = text[:-1]  # 移除結尾的冒號\n",
    "        elif current_key:\n",
    "            info[current_key] = text\n",
    "            current_key = None\n",
    "    #info{作者,譯者,出版社,出版日期}\n",
    "       \n",
    "    book_data = {\n",
    "        '書名':title,\n",
    "        'URL': url,\n",
    "        '作者介紹': '',\n",
    "        '各界推薦': '',\n",
    "        '推薦序': '',\n",
    "        # 根據需要添加更多的欄位\n",
    "    }   \n",
    "    \n",
    "    soup = BeautifulSoup(res.text, 'html.parser')\n",
    "    content = soup.find_all(\"p\")\n",
    "    for p in content:\n",
    "        text = p.get_text()\n",
    "        #print(p.get_text() + '\\n' + '\\n')\n",
    "        if '作者介紹' in text:\n",
    "            book_data['作者介紹'] = text.replace('作者介紹', '').strip()\n",
    "        elif '產品目錄' in text:\n",
    "            book_data['產品目錄'] = text.replace('產品目錄', '').strip()\n",
    "        elif '內容簡介' in text:\n",
    "            book_data['內容簡介'] = text.replace('內容簡介', '').strip()\n",
    "        elif '各界推薦' in text:\n",
    "            book_data['各界推薦'] = text.replace('各界推薦', '').strip()\n",
    "        elif '自序' in text:\n",
    "            book_data['自序'] = text.replace('自序 :', '').strip()\n",
    "        elif '內文' in text:\n",
    "            book_data['內文'] = text.replace('內文 :', '').strip()\n",
    "        elif '推薦序' in text:\n",
    "            book_data['推薦序'] = text.replace('推薦序', '').strip()\n",
    "        elif '最佳賣點' in text:\n",
    "            book_data['最佳賣點'] = text.replace('最佳賣點 :', '').strip()\n",
    "    \n",
    "    #合併info和book_data兩個dictionary\n",
    "    book_data.update(info)\n",
    "    # 将当前书籍的数据添加到all_books_data DataFrame\n",
    "    df = pd.DataFrame([book_data])\n",
    "    all_books_data=pd.concat([df,all_books_data], ignore_index=True)\n",
    "\n",
    "# 将所有书籍的数据保存到一个Excel文件中\n",
    "all_books_data.to_excel('book_data_大眾心理學3.xlsx', index=False)\n",
    "print(\"完成\")\n"
   ]
  },
  {
   "cell_type": "code",
   "execution_count": 11,
   "id": "e2995a25",
   "metadata": {},
   "outputs": [],
   "source": [
    "all_books_data.to_excel('book_data_大眾心理學3.xlsx', index=False)"
   ]
  },
  {
   "cell_type": "code",
   "execution_count": 5,
   "id": "a706926a",
   "metadata": {},
   "outputs": [],
   "source": [
    "df1 = pd.read_excel('book_data_心理測驗.xlsx')\n",
    "df2 = pd.read_excel('book_data_心理學工具書.xlsx')"
   ]
  },
  {
   "cell_type": "code",
   "execution_count": 6,
   "id": "d7b2d6eb",
   "metadata": {},
   "outputs": [],
   "source": [
    "df3 = pd.concat([df1,df2], ignore_index=True)"
   ]
  },
  {
   "cell_type": "code",
   "execution_count": 7,
   "id": "baca0853",
   "metadata": {},
   "outputs": [],
   "source": [
    "df3.to_excel('測驗+工具書.xlsx',index=True)"
   ]
  },
  {
   "cell_type": "code",
   "execution_count": null,
   "id": "5cf2e181",
   "metadata": {},
   "outputs": [],
   "source": []
  }
 ],
 "metadata": {
  "kernelspec": {
   "display_name": "Python 3 (ipykernel)",
   "language": "python",
   "name": "python3"
  },
  "language_info": {
   "codemirror_mode": {
    "name": "ipython",
    "version": 3
   },
   "file_extension": ".py",
   "mimetype": "text/x-python",
   "name": "python",
   "nbconvert_exporter": "python",
   "pygments_lexer": "ipython3",
   "version": "3.10.9"
  }
 },
 "nbformat": 4,
 "nbformat_minor": 5
}
